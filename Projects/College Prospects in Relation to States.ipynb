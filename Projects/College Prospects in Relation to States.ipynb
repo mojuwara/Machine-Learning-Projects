{
 "cells": [
  {
   "cell_type": "markdown",
   "metadata": {
    "collapsed": true
   },
   "source": [
    "### college prospects last few years and the cities they come from"
   ]
  },
  {
   "cell_type": "code",
   "execution_count": 158,
   "metadata": {
    "collapsed": true
   },
   "outputs": [],
   "source": [
    "from bs4 import BeautifulSoup\n",
    "import requests\n",
    "import matplotlib.pyplot as plt\n",
    "import re"
   ]
  },
  {
   "cell_type": "markdown",
   "metadata": {},
   "source": [
    "### First get info on each player from ESPN 100\n",
    "http://www.espn.com/college-sports/basketball/recruiting/playerrankings/_/class/2018/order/true"
   ]
  },
  {
   "cell_type": "markdown",
   "metadata": {},
   "source": [
    "### Make sure the object is a player"
   ]
  },
  {
   "cell_type": "code",
   "execution_count": 159,
   "metadata": {
    "collapsed": true
   },
   "outputs": [],
   "source": [
    "def is_player(item):\n",
    "    #Players have tag 'tr' and class containing the word 'player'\n",
    "    \n",
    "    if (len(item[\"class\"]) < 2):    #print(item[\"class\"])   --- List object ex: ['oddrow', 'player-3550-43264']\n",
    "        return False\n",
    "    return re.match(\"player\", item[\"class\"][1])"
   ]
  },
  {
   "cell_type": "markdown",
   "metadata": {},
   "source": [
    "### Make sure the player is from the United States"
   ]
  },
  {
   "cell_type": "code",
   "execution_count": 174,
   "metadata": {},
   "outputs": [],
   "source": [
    "\n",
    "states_set = set([\"AL\", \"AK\", \"AZ\", \"AR\", \"CA\", \"CO\", \"CT\", \"DC\", \"DE\", \"FL\", \"GA\", \n",
    "          \"HI\", \"ID\", \"IL\", \"IN\", \"IA\", \"KS\", \"KY\", \"LA\", \"ME\", \"MD\", \n",
    "          \"MA\", \"MI\", \"MN\", \"MS\", \"MO\", \"MT\", \"NE\", \"NV\", \"NH\", \"NJ\", \n",
    "          \"NM\", \"NY\", \"NC\", \"ND\", \"OH\", \"OK\", \"OR\", \"PA\", \"RI\", \"SC\", \n",
    "          \"SD\", \"TN\", \"TX\", \"UT\", \"VT\", \"VA\", \"WA\", \"WV\", \"WI\", \"WY\"])\n",
    "\n",
    "def USA_player(player):\n",
    "    #International locations contain 2 commas and will split into 3 parts OR wont be in states_set above\n",
    "    return (len(player.find_all('td')[3].text.split(\",\")) == 2) and \\\n",
    "            player.find_all('td')[3].text.split(\", \")[1][:2] in states_set"
   ]
  },
  {
   "cell_type": "markdown",
   "metadata": {},
   "source": [
    "### Might be useful later on"
   ]
  },
  {
   "cell_type": "code",
   "execution_count": 161,
   "metadata": {
    "collapsed": true
   },
   "outputs": [],
   "source": [
    "def to_inches(height):\n",
    "    if len(height) == 5:\n",
    "        return (int(height[0]) * 12) + int(height[2])\n",
    "    else:\n",
    "        return (int(height[0]) * 12) + int(height[2:4])"
   ]
  },
  {
   "cell_type": "markdown",
   "metadata": {},
   "source": [
    "### Extract info on class rank, name, height, weight, hometown, position"
   ]
  },
  {
   "cell_type": "code",
   "execution_count": 162,
   "metadata": {},
   "outputs": [],
   "source": [
    "def get_info(player):\n",
    "    all_info = player.find_all('td')\n",
    "    class_rank = int(all_info[0].text)\n",
    "    name = player.find('div', {'class':'name'}).a.text\n",
    "    pos = all_info[2].text\n",
    "    height = to_inches(all_info[4].text)\n",
    "    hometown = all_info[3].text.split(\", \")[1][:2]\n",
    "    \n",
    "    #Some players don't have recorded weights, give them weight 185\n",
    "    if all_info[5].text.isdigit():\n",
    "        weight = int(all_info[5].text)\n",
    "    else:\n",
    "        weight = 185\n",
    "\n",
    "    return {\n",
    "        \"Name\" : name,\n",
    "        \"Class Rank\" : class_rank,\n",
    "        \"Position\" : pos,\n",
    "        \"Height\" : height,\n",
    "        \"Weight\" : weight,\n",
    "        \"Hometown\" : hometown\n",
    "    }\n",
    "    "
   ]
  },
  {
   "cell_type": "markdown",
   "metadata": {},
   "source": [
    "### See how the information is looking"
   ]
  },
  {
   "cell_type": "code",
   "execution_count": 163,
   "metadata": {
    "collapsed": true
   },
   "outputs": [],
   "source": [
    "def preview_info(player):\n",
    "    for i in player.find_all('td'):\n",
    "        print(i.text)"
   ]
  },
  {
   "cell_type": "markdown",
   "metadata": {},
   "source": [
    "### Crawl through the last 10 years of college prospects in the ESPN top 100"
   ]
  },
  {
   "cell_type": "code",
   "execution_count": 164,
   "metadata": {},
   "outputs": [],
   "source": [
    "\"\"\"    Extract all the top 100 prospects from the past decade    \"\"\"\n",
    "\n",
    "players = []\n",
    "for year in range(2009, 2019): #Get prospects from the last 10 years\n",
    "    url = \"http://www.espn.com/college-sports/basketball/recruiting/playerrankings/_/class/\" + str(year) + \"/order/true\"\n",
    "    soup = BeautifulSoup(requests.get(url).text, 'html5lib')\n",
    "    \n",
    "    #print(type(soup('tr')))  --- bs4.element.ResultSet\n",
    "    for item in soup('tr'):\n",
    "        if is_player(item) and USA_player(item):\n",
    "            #preview_info(item)\n",
    "            players.append(get_info(item))"
   ]
  },
  {
   "cell_type": "code",
   "execution_count": 165,
   "metadata": {},
   "outputs": [
    {
     "name": "stdout",
     "output_type": "stream",
     "text": [
      "# of players:  970\n",
      "{'Name': 'Avery Bradley', 'Class Rank': 1, 'Position': 'SG', 'Height': 75, 'Weight': 180, 'Hometown': 'WA'}\n"
     ]
    },
    {
     "data": {
      "text/plain": [
       "{'Class Rank': 2,\n",
       " 'Height': 81,\n",
       " 'Hometown': 'GA',\n",
       " 'Name': 'Derrick Favors',\n",
       " 'Position': 'PF',\n",
       " 'Weight': 220}"
      ]
     },
     "execution_count": 165,
     "metadata": {},
     "output_type": "execute_result"
    }
   ],
   "source": [
    "print(\"# of players: \", len(players))\n",
    "print(players[0])\n",
    "players[1]"
   ]
  },
  {
   "cell_type": "markdown",
   "metadata": {},
   "source": [
    "### Get general sense using bar graph and line graph"
   ]
  },
  {
   "cell_type": "code",
   "execution_count": 166,
   "metadata": {
    "collapsed": true
   },
   "outputs": [],
   "source": [
    "state_counts = {}\n",
    "for player in players:\n",
    "    if player[\"Hometown\"] in state_counts:\n",
    "        state_counts[player[\"Hometown\"]] += 1\n",
    "    else:\n",
    "        state_counts[player[\"Hometown\"]] = 1"
   ]
  },
  {
   "cell_type": "code",
   "execution_count": 167,
   "metadata": {},
   "outputs": [
    {
     "name": "stdout",
     "output_type": "stream",
     "text": [
      "{'WA': 20, 'GA': 67, 'OK': 6, 'AL': 17, 'NC': 50, 'FL': 52, 'CA': 88, 'IN': 36, 'TX': 82, 'NY': 41, 'MD': 41, 'NJ': 25, 'MA': 26, 'TN': 29, 'PA': 33, 'SC': 14, 'NV': 13, 'WI': 22, 'MN': 13, 'RI': 6, 'DC': 4, 'IL': 45, 'WV': 4, 'VA': 33, 'OR': 8, 'MI': 31, 'OH': 39, 'AZ': 13, 'AR': 11, 'LA': 17, 'MO': 14, 'KY': 8, 'IA': 7, 'KS': 6, 'NH': 4, 'MS': 13, 'NM': 2, 'CT': 8, 'DE': 4, 'ME': 1, 'CO': 7, 'NE': 2, 'UT': 7, 'MT': 1}\n"
     ]
    }
   ],
   "source": [
    "print(state_counts)"
   ]
  },
  {
   "cell_type": "code",
   "execution_count": 168,
   "metadata": {},
   "outputs": [
    {
     "name": "stdout",
     "output_type": "stream",
     "text": [
      "44\n"
     ]
    }
   ],
   "source": [
    "print(len(state_counts)) # 3 states don't even have college basketball prospects in the last 10 years"
   ]
  },
  {
   "cell_type": "markdown",
   "metadata": {},
   "source": [
    "### Sort the information based on # of players who played college ball"
   ]
  },
  {
   "cell_type": "code",
   "execution_count": 169,
   "metadata": {},
   "outputs": [],
   "source": [
    "\"\"\"\n",
    "for key, value in state_counts.items():\n",
    "    states.append(key)\n",
    "    prospects.append(value)\n",
    "\"\"\"\n",
    "states = []\n",
    "prospects = []\n",
    "for k in sorted(state_counts, key=state_counts.get): #Thank you Stack Overflow\n",
    "    states.append(k)\n",
    "    prospects.append(state_counts[k]) "
   ]
  },
  {
   "cell_type": "markdown",
   "metadata": {},
   "source": [
    "### Was a bad idea to make a line graph to represent information"
   ]
  },
  {
   "cell_type": "code",
   "execution_count": 170,
   "metadata": {},
   "outputs": [
    {
     "data": {
      "image/png": "[encoded data removed]",
      "text/plain": [
       "<matplotlib.figure.Figure at 0x21965106780>"
      ]
     },
     "metadata": {},
     "output_type": "display_data"
    }
   ],
   "source": [
    "plt.figure(figsize=(15,8))\n",
    "plt.plot(prospects)\n",
    "plt.title(\"States vs College Basketball Prospects\")\n",
    "plt.ylabel(\"# of prospects\")\n",
    "plt.xlabel(\"States\")\n",
    "plt.show()"
   ]
  },
  {
   "cell_type": "markdown",
   "metadata": {},
   "source": [
    "### Slightly better visualization"
   ]
  },
  {
   "cell_type": "code",
   "execution_count": 171,
   "metadata": {},
   "outputs": [
    {
     "data": {
      "image/png": "[encoded data removed]",
      "text/plain": [
       "<matplotlib.figure.Figure at 0x219650fbe10>"
      ]
     },
     "metadata": {},
     "output_type": "display_data"
    }
   ],
   "source": [
    "xs = [i for i,_ in enumerate(states)]\n",
    "plt.figure(figsize=(16, 8))\n",
    "plt.bar(xs, prospects)\n",
    "plt.xticks(xs, states)\n",
    "plt.title(\"States & College Basketball Prospects\")\n",
    "plt.ylabel(\"# of prospects\")\n",
    "plt.xlabel(\"States\")\n",
    "plt.show()"
   ]
  },
  {
   "cell_type": "markdown",
   "metadata": {},
   "source": [
    "### Curious about the states w/out basketball prospects"
   ]
  },
  {
   "cell_type": "code",
   "execution_count": 172,
   "metadata": {},
   "outputs": [
    {
     "name": "stdout",
     "output_type": "stream",
     "text": [
      "WY\n",
      "AK\n",
      "SD\n",
      "VT\n",
      "ID\n",
      "HI\n",
      "ND\n"
     ]
    }
   ],
   "source": [
    "for i in states_set:\n",
    "    if i not in set(state_counts.keys()):\n",
    "        print(i)"
   ]
  },
  {
   "cell_type": "markdown",
   "metadata": {},
   "source": [
    "### Possible reasons why:\n",
    "### CA has 4 NBA teams and TX has 3, but doesnt explain others "
   ]
  }
 ],
 "metadata": {
  "kernelspec": {
   "display_name": "Python 3",
   "language": "python",
   "name": "python3"
  },
  "language_info": {
   "codemirror_mode": {
    "name": "ipython",
    "version": 3
   },
   "file_extension": ".py",
   "mimetype": "text/x-python",
   "name": "python",
   "nbconvert_exporter": "python",
   "pygments_lexer": "ipython3",
   "version": "3.6.1"
  }
 },
 "nbformat": 4,
 "nbformat_minor": 2
}
