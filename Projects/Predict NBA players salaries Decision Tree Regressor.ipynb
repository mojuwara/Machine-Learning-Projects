{
 "cells": [
  {
   "cell_type": "markdown",
   "metadata": {
    "collapsed": true
   },
   "source": [
    "Will create a decision tree regressor model to predict the salary of current NBA players based on career stats, all star appearances, etc."
   ]
  },
  {
   "cell_type": "code",
   "execution_count": 119,
   "metadata": {
    "collapsed": true
   },
   "outputs": [],
   "source": [
    "from sklearn.tree import DecisionTreeRegressor\n",
    "from sklearn.model_selection import train_test_split\n",
    "from sklearn.metrics import mean_absolute_error\n",
    "from bs4 import BeautifulSoup\n",
    "import numpy as np\n",
    "import matplotlib.pyplot as plt\n",
    "import requests\n",
    "import pandas as pd"
   ]
  },
  {
   "cell_type": "code",
   "execution_count": 120,
   "metadata": {},
   "outputs": [],
   "source": [
    "player_names = []\n",
    "url = \"https://www.basketball-reference.com/contracts/players.html\"\n",
    "soup = BeautifulSoup(requests.get(url).text, 'html5lib')\n",
    "#print(soup.prettify())"
   ]
  },
  {
   "cell_type": "markdown",
   "metadata": {},
   "source": [
    "Lebron shows up twice"
   ]
  },
  {
   "cell_type": "markdown",
   "metadata": {},
   "source": [
    "Get each players name"
   ]
  },
  {
   "cell_type": "code",
   "execution_count": 121,
   "metadata": {},
   "outputs": [],
   "source": [
    "player_html_tags = soup.find_all(\"td\", {\"data-stat\" : \"player\"})\n",
    "player_html_tags\n",
    "player_names = [name.text for name in player_html_tags]\n",
    "#player_names"
   ]
  },
  {
   "cell_type": "markdown",
   "metadata": {},
   "source": [
    "Get the unique link to each players stats page"
   ]
  },
  {
   "cell_type": "code",
   "execution_count": 122,
   "metadata": {
    "scrolled": false
   },
   "outputs": [
    {
     "data": {
      "text/plain": [
       "['/players/c/curryst01.html',\n",
       " '/players/p/paulch01.html',\n",
       " '/players/j/jamesle01.html',\n",
       " '/players/w/westbru01.html',\n",
       " '/players/g/griffbl01.html']"
      ]
     },
     "execution_count": 122,
     "metadata": {},
     "output_type": "execute_result"
    }
   ],
   "source": [
    "stats_list = []\n",
    "for i in range(len(player_html_tags)):\n",
    "    stats_list.append(player_html_tags[i].select('a[href]')[0][\"href\"])\n",
    "stats_list[:5]"
   ]
  },
  {
   "cell_type": "markdown",
   "metadata": {},
   "source": [
    "Get the salary for each player"
   ]
  },
  {
   "cell_type": "code",
   "execution_count": 123,
   "metadata": {},
   "outputs": [],
   "source": [
    "salary_tags = soup.find_all(\"td\", {\"data-stat\" : \"y1\"})\n",
    "salary_list = []\n",
    "for i in range(len(salary_tags)):\n",
    "    salary_list.append(int(str(salary_tags[i]).split()[3].split('\"')[1]))\n",
    "#salary_list"
   ]
  },
  {
   "cell_type": "markdown",
   "metadata": {},
   "source": [
    "Features that will be extracted from the website"
   ]
  },
  {
   "cell_type": "code",
   "execution_count": 124,
   "metadata": {
    "collapsed": true
   },
   "outputs": [],
   "source": [
    "def nan_handler(text):            \n",
    "    try:\n",
    "        return float(text)\n",
    "    except ValueError:\n",
    "        return 0.0"
   ]
  },
  {
   "cell_type": "code",
   "execution_count": 125,
   "metadata": {
    "collapsed": true
   },
   "outputs": [],
   "source": [
    "games_played = []\n",
    "games_started = []\n",
    "avg_minutes = []\n",
    "made_field_goals = []\n",
    "field_goal_attempts = []\n",
    "field_goal_percent = []\n",
    "three_point_makes = []\n",
    "three_point_attempts = []\n",
    "three_point_percent = []\n",
    "two_point_makes = []\n",
    "two_point_attempts = []\n",
    "two_point_percent = []\n",
    "eff_field_goal_percent = []\n",
    "free_throw_makes = []\n",
    "free_throw_attempts = []\n",
    "free_throw_percent = []\n",
    "off_rebounds = []\n",
    "def_rebounds = []\n",
    "total_rebounds = []\n",
    "assists = []\n",
    "steals = []\n",
    "blocks = []\n",
    "turnovers = []\n",
    "points = []\n",
    "\n",
    "master_list = [games_played, games_started, avg_minutes, made_field_goals, field_goal_attempts,\n",
    "                field_goal_percent, three_point_makes, three_point_attempts, three_point_percent, \n",
    "                two_point_makes, two_point_attempts, two_point_percent, eff_field_goal_percent,\n",
    "                free_throw_makes, free_throw_attempts, free_throw_percent, off_rebounds, def_rebounds,\n",
    "                total_rebounds, assists, steals, blocks, turnovers, points]"
   ]
  },
  {
   "cell_type": "code",
   "execution_count": 126,
   "metadata": {
    "scrolled": true
   },
   "outputs": [],
   "source": [
    "#Loop through the list of unique websites for each player\n",
    "for i,website in enumerate(stats_list):\n",
    "    site = \"https://www.basketball-reference.com\" + website\n",
    "    player_soup = BeautifulSoup(requests.get(site).text, \"html5lib\")\n",
    "    \n",
    "    #Player might be a rookie\n",
    "    try:\n",
    "        career_stats = player_soup.find_all(\"tfoot\")[0].select(\"td\")\n",
    "    except IndexError:\n",
    "        for lst in master_list:\n",
    "            lst.append(0.0)\n",
    "        continue\n",
    "        \n",
    "    games_played.append(nan_handler(career_stats[4].text))\n",
    "    games_started.append(nan_handler(career_stats[5].text))\n",
    "    avg_minutes.append(nan_handler(career_stats[6].text))\n",
    "    made_field_goals.append(nan_handler(career_stats[7].text))\n",
    "    field_goal_attempts.append(nan_handler(career_stats[8].text))        \n",
    "    three_point_makes.append(nan_handler(career_stats[10].text))\n",
    "    three_point_attempts.append(nan_handler(career_stats[11].text))        \n",
    "    two_point_makes.append(nan_handler(career_stats[13].text))\n",
    "    two_point_attempts.append(nan_handler(career_stats[14].text))        \n",
    "    eff_field_goal_percent.append(nan_handler(career_stats[16].text))\n",
    "    free_throw_makes.append(nan_handler(career_stats[17].text))\n",
    "    free_throw_attempts.append(nan_handler(career_stats[18].text))      \n",
    "    off_rebounds.append(nan_handler(career_stats[20].text))\n",
    "    def_rebounds.append(nan_handler(career_stats[21].text))\n",
    "    total_rebounds.append(nan_handler(career_stats[22].text))\n",
    "    assists.append(nan_handler(career_stats[23].text))\n",
    "    steals.append(nan_handler(career_stats[24].text))\n",
    "    blocks.append(nan_handler(career_stats[25].text))\n",
    "    turnovers.append(nan_handler(career_stats[26].text))\n",
    "    points.append(nan_handler(career_stats[28].text))\n",
    "    field_goal_percent.append(nan_handler(career_stats[9].text))\n",
    "    free_throw_percent.append(nan_handler(career_stats[19].text))\n",
    "    two_point_percent.append(nan_handler(career_stats[15].text))\n",
    "    three_point_percent.append(nan_handler(career_stats[12].text))"
   ]
  },
  {
   "cell_type": "markdown",
   "metadata": {},
   "source": [
    "Will remove all rookies from the data"
   ]
  },
  {
   "cell_type": "code",
   "execution_count": 127,
   "metadata": {
    "scrolled": false
   },
   "outputs": [
    {
     "data": {
      "text/html": [
       "<div>\n",
       "<style>\n",
       "    .dataframe thead tr:only-child th {\n",
       "        text-align: right;\n",
       "    }\n",
       "\n",
       "    .dataframe thead th {\n",
       "        text-align: left;\n",
       "    }\n",
       "\n",
       "    .dataframe tbody tr th {\n",
       "        vertical-align: top;\n",
       "    }\n",
       "</style>\n",
       "<table border=\"1\" class=\"dataframe\">\n",
       "  <thead>\n",
       "    <tr style=\"text-align: right;\">\n",
       "      <th></th>\n",
       "      <th>Name</th>\n",
       "      <th>PPG</th>\n",
       "      <th>AST</th>\n",
       "      <th>BLK</th>\n",
       "      <th>TO</th>\n",
       "      <th>STL</th>\n",
       "      <th>REB</th>\n",
       "      <th>OREB</th>\n",
       "      <th>DREB</th>\n",
       "      <th>GP</th>\n",
       "      <th>...</th>\n",
       "      <th>3P</th>\n",
       "      <th>3P%</th>\n",
       "      <th>FTA</th>\n",
       "      <th>FT</th>\n",
       "      <th>FT%</th>\n",
       "      <th>2PA</th>\n",
       "      <th>2P</th>\n",
       "      <th>2P%</th>\n",
       "      <th>EFG%</th>\n",
       "      <th>Salary</th>\n",
       "    </tr>\n",
       "  </thead>\n",
       "  <tbody>\n",
       "    <tr>\n",
       "      <th>0</th>\n",
       "      <td>Stephen Curry</td>\n",
       "      <td>23.1</td>\n",
       "      <td>6.8</td>\n",
       "      <td>0.2</td>\n",
       "      <td>3.2</td>\n",
       "      <td>1.8</td>\n",
       "      <td>4.4</td>\n",
       "      <td>0.7</td>\n",
       "      <td>3.7</td>\n",
       "      <td>625</td>\n",
       "      <td>...</td>\n",
       "      <td>3.4</td>\n",
       "      <td>0.436</td>\n",
       "      <td>4</td>\n",
       "      <td>3.6</td>\n",
       "      <td>0.903</td>\n",
       "      <td>9</td>\n",
       "      <td>4.6</td>\n",
       "      <td>0.513</td>\n",
       "      <td>0.579</td>\n",
       "      <td>37457154</td>\n",
       "    </tr>\n",
       "    <tr>\n",
       "      <th>1</th>\n",
       "      <td>Chris Paul</td>\n",
       "      <td>18.7</td>\n",
       "      <td>9.8</td>\n",
       "      <td>0.1</td>\n",
       "      <td>2.4</td>\n",
       "      <td>2.3</td>\n",
       "      <td>4.5</td>\n",
       "      <td>0.7</td>\n",
       "      <td>3.8</td>\n",
       "      <td>892</td>\n",
       "      <td>...</td>\n",
       "      <td>1.3</td>\n",
       "      <td>0.372</td>\n",
       "      <td>4.9</td>\n",
       "      <td>4.3</td>\n",
       "      <td>0.868</td>\n",
       "      <td>10.5</td>\n",
       "      <td>5.3</td>\n",
       "      <td>0.505</td>\n",
       "      <td>0.518</td>\n",
       "      <td>35654150</td>\n",
       "    </tr>\n",
       "    <tr>\n",
       "      <th>2</th>\n",
       "      <td>LeBron James</td>\n",
       "      <td>27.2</td>\n",
       "      <td>7.2</td>\n",
       "      <td>0.8</td>\n",
       "      <td>3.5</td>\n",
       "      <td>1.6</td>\n",
       "      <td>7.4</td>\n",
       "      <td>1.2</td>\n",
       "      <td>6.1</td>\n",
       "      <td>1143</td>\n",
       "      <td>...</td>\n",
       "      <td>1.4</td>\n",
       "      <td>0.344</td>\n",
       "      <td>8.1</td>\n",
       "      <td>6</td>\n",
       "      <td>0.739</td>\n",
       "      <td>15.5</td>\n",
       "      <td>8.5</td>\n",
       "      <td>0.547</td>\n",
       "      <td>0.54</td>\n",
       "      <td>35654150</td>\n",
       "    </tr>\n",
       "    <tr>\n",
       "      <th>3</th>\n",
       "      <td>Russell Westbrook</td>\n",
       "      <td>23</td>\n",
       "      <td>8.2</td>\n",
       "      <td>0.3</td>\n",
       "      <td>4</td>\n",
       "      <td>1.7</td>\n",
       "      <td>6.6</td>\n",
       "      <td>1.7</td>\n",
       "      <td>4.9</td>\n",
       "      <td>748</td>\n",
       "      <td>...</td>\n",
       "      <td>1.1</td>\n",
       "      <td>0.311</td>\n",
       "      <td>7.2</td>\n",
       "      <td>5.9</td>\n",
       "      <td>0.814</td>\n",
       "      <td>15</td>\n",
       "      <td>6.9</td>\n",
       "      <td>0.464</td>\n",
       "      <td>0.464</td>\n",
       "      <td>35350000</td>\n",
       "    </tr>\n",
       "    <tr>\n",
       "      <th>4</th>\n",
       "      <td>Blake Griffin</td>\n",
       "      <td>21.5</td>\n",
       "      <td>4.3</td>\n",
       "      <td>0.5</td>\n",
       "      <td>2.5</td>\n",
       "      <td>0.9</td>\n",
       "      <td>9.2</td>\n",
       "      <td>2.3</td>\n",
       "      <td>6.9</td>\n",
       "      <td>529</td>\n",
       "      <td>...</td>\n",
       "      <td>0.4</td>\n",
       "      <td>0.324</td>\n",
       "      <td>6.9</td>\n",
       "      <td>4.7</td>\n",
       "      <td>0.683</td>\n",
       "      <td>15</td>\n",
       "      <td>7.8</td>\n",
       "      <td>0.522</td>\n",
       "      <td>0.519</td>\n",
       "      <td>31873932</td>\n",
       "    </tr>\n",
       "  </tbody>\n",
       "</table>\n",
       "<p>5 rows × 26 columns</p>\n",
       "</div>"
      ],
      "text/plain": [
       "                Name   PPG  AST  BLK   TO  STL  REB OREB DREB    GP    ...     \\\n",
       "0      Stephen Curry  23.1  6.8  0.2  3.2  1.8  4.4  0.7  3.7   625    ...      \n",
       "1         Chris Paul  18.7  9.8  0.1  2.4  2.3  4.5  0.7  3.8   892    ...      \n",
       "2       LeBron James  27.2  7.2  0.8  3.5  1.6  7.4  1.2  6.1  1143    ...      \n",
       "3  Russell Westbrook    23  8.2  0.3    4  1.7  6.6  1.7  4.9   748    ...      \n",
       "4      Blake Griffin  21.5  4.3  0.5  2.5  0.9  9.2  2.3  6.9   529    ...      \n",
       "\n",
       "    3P    3P%  FTA   FT    FT%   2PA   2P    2P%   EFG%    Salary  \n",
       "0  3.4  0.436    4  3.6  0.903     9  4.6  0.513  0.579  37457154  \n",
       "1  1.3  0.372  4.9  4.3  0.868  10.5  5.3  0.505  0.518  35654150  \n",
       "2  1.4  0.344  8.1    6  0.739  15.5  8.5  0.547   0.54  35654150  \n",
       "3  1.1  0.311  7.2  5.9  0.814    15  6.9  0.464  0.464  35350000  \n",
       "4  0.4  0.324  6.9  4.7  0.683    15  7.8  0.522  0.519  31873932  \n",
       "\n",
       "[5 rows x 26 columns]"
      ]
     },
     "execution_count": 127,
     "metadata": {},
     "output_type": "execute_result"
    }
   ],
   "source": [
    "cols = [\"Name\", \"PPG\", \"AST\", \"BLK\", \"TO\", \"STL\", \"REB\", \"OREB\", \"DREB\", \"GP\", \"GS\", \"MPG\", \"FGA\", \"FG\", \"FG%\", \"3PA\",\n",
    "        \"3P\", \"3P%\", \"FTA\", \"FT\", \"FT%\", \"2PA\", \"2P\", \"2P%\", \"EFG%\", \"Salary\"]\n",
    "\n",
    "#Transpose the dataframes\n",
    "data = pd.DataFrame([player_names, points, assists, blocks, turnovers, steals, total_rebounds, off_rebounds, def_rebounds,\n",
    "                     games_played, games_started, avg_minutes, field_goal_attempts, made_field_goals, field_goal_percent,\n",
    "                     three_point_attempts, three_point_makes, three_point_percent, free_throw_attempts, free_throw_makes, \n",
    "                     free_throw_percent, two_point_attempts, two_point_makes, two_point_percent, eff_field_goal_percent, \n",
    "                     salary_list]).T\n",
    "data.columns=cols\n",
    "data.head()"
   ]
  },
  {
   "cell_type": "code",
   "execution_count": 128,
   "metadata": {
    "scrolled": true
   },
   "outputs": [
    {
     "name": "stdout",
     "output_type": "stream",
     "text": [
      "473\n"
     ]
    }
   ],
   "source": [
    "print(len(data.Name))"
   ]
  },
  {
   "cell_type": "code",
   "execution_count": 129,
   "metadata": {},
   "outputs": [],
   "source": [
    "#data.iloc[319, :]\n",
    "#data[data.GP == 0]\n",
    "data = data.drop(data[data.GP == 0].index)"
   ]
  },
  {
   "cell_type": "code",
   "execution_count": 130,
   "metadata": {},
   "outputs": [
    {
     "name": "stdout",
     "output_type": "stream",
     "text": [
      "413\n"
     ]
    }
   ],
   "source": [
    "print(len(data.Name))"
   ]
  },
  {
   "cell_type": "code",
   "execution_count": 131,
   "metadata": {},
   "outputs": [
    {
     "data": {
      "text/html": [
       "<div>\n",
       "<style>\n",
       "    .dataframe thead tr:only-child th {\n",
       "        text-align: right;\n",
       "    }\n",
       "\n",
       "    .dataframe thead th {\n",
       "        text-align: left;\n",
       "    }\n",
       "\n",
       "    .dataframe tbody tr th {\n",
       "        vertical-align: top;\n",
       "    }\n",
       "</style>\n",
       "<table border=\"1\" class=\"dataframe\">\n",
       "  <thead>\n",
       "    <tr style=\"text-align: right;\">\n",
       "      <th></th>\n",
       "      <th>Name</th>\n",
       "      <th>PPG</th>\n",
       "      <th>AST</th>\n",
       "      <th>BLK</th>\n",
       "      <th>TO</th>\n",
       "      <th>STL</th>\n",
       "      <th>REB</th>\n",
       "      <th>MPG</th>\n",
       "      <th>FT%</th>\n",
       "      <th>EFG%</th>\n",
       "      <th>Salary</th>\n",
       "    </tr>\n",
       "  </thead>\n",
       "  <tbody>\n",
       "    <tr>\n",
       "      <th>0</th>\n",
       "      <td>Stephen Curry</td>\n",
       "      <td>23.1</td>\n",
       "      <td>6.8</td>\n",
       "      <td>0.2</td>\n",
       "      <td>3.2</td>\n",
       "      <td>1.8</td>\n",
       "      <td>4.4</td>\n",
       "      <td>34.4</td>\n",
       "      <td>0.903</td>\n",
       "      <td>0.579</td>\n",
       "      <td>37457154</td>\n",
       "    </tr>\n",
       "    <tr>\n",
       "      <th>1</th>\n",
       "      <td>Chris Paul</td>\n",
       "      <td>18.7</td>\n",
       "      <td>9.8</td>\n",
       "      <td>0.1</td>\n",
       "      <td>2.4</td>\n",
       "      <td>2.3</td>\n",
       "      <td>4.5</td>\n",
       "      <td>35.3</td>\n",
       "      <td>0.868</td>\n",
       "      <td>0.518</td>\n",
       "      <td>35654150</td>\n",
       "    </tr>\n",
       "    <tr>\n",
       "      <th>2</th>\n",
       "      <td>LeBron James</td>\n",
       "      <td>27.2</td>\n",
       "      <td>7.2</td>\n",
       "      <td>0.8</td>\n",
       "      <td>3.5</td>\n",
       "      <td>1.6</td>\n",
       "      <td>7.4</td>\n",
       "      <td>38.8</td>\n",
       "      <td>0.739</td>\n",
       "      <td>0.54</td>\n",
       "      <td>35654150</td>\n",
       "    </tr>\n",
       "    <tr>\n",
       "      <th>3</th>\n",
       "      <td>Russell Westbrook</td>\n",
       "      <td>23</td>\n",
       "      <td>8.2</td>\n",
       "      <td>0.3</td>\n",
       "      <td>4</td>\n",
       "      <td>1.7</td>\n",
       "      <td>6.6</td>\n",
       "      <td>34.4</td>\n",
       "      <td>0.814</td>\n",
       "      <td>0.464</td>\n",
       "      <td>35350000</td>\n",
       "    </tr>\n",
       "    <tr>\n",
       "      <th>4</th>\n",
       "      <td>Blake Griffin</td>\n",
       "      <td>21.5</td>\n",
       "      <td>4.3</td>\n",
       "      <td>0.5</td>\n",
       "      <td>2.5</td>\n",
       "      <td>0.9</td>\n",
       "      <td>9.2</td>\n",
       "      <td>35</td>\n",
       "      <td>0.683</td>\n",
       "      <td>0.519</td>\n",
       "      <td>31873932</td>\n",
       "    </tr>\n",
       "  </tbody>\n",
       "</table>\n",
       "</div>"
      ],
      "text/plain": [
       "                Name   PPG  AST  BLK   TO  STL  REB   MPG    FT%   EFG%  \\\n",
       "0      Stephen Curry  23.1  6.8  0.2  3.2  1.8  4.4  34.4  0.903  0.579   \n",
       "1         Chris Paul  18.7  9.8  0.1  2.4  2.3  4.5  35.3  0.868  0.518   \n",
       "2       LeBron James  27.2  7.2  0.8  3.5  1.6  7.4  38.8  0.739   0.54   \n",
       "3  Russell Westbrook    23  8.2  0.3    4  1.7  6.6  34.4  0.814  0.464   \n",
       "4      Blake Griffin  21.5  4.3  0.5  2.5  0.9  9.2    35  0.683  0.519   \n",
       "\n",
       "     Salary  \n",
       "0  37457154  \n",
       "1  35654150  \n",
       "2  35654150  \n",
       "3  35350000  \n",
       "4  31873932  "
      ]
     },
     "execution_count": 131,
     "metadata": {},
     "output_type": "execute_result"
    }
   ],
   "source": [
    "simplified_data = data[[\"Name\", \"PPG\", \"AST\", \"BLK\", \"TO\", \"STL\", \"REB\", \"MPG\", \"FT%\", \"EFG%\", \"Salary\"]]\n",
    "simplified_data.head()"
   ]
  },
  {
   "cell_type": "code",
   "execution_count": 132,
   "metadata": {},
   "outputs": [
    {
     "data": {
      "text/plain": [
       "DecisionTreeRegressor(criterion='mse', max_depth=None, max_features=None,\n",
       "           max_leaf_nodes=None, min_impurity_decrease=0.0,\n",
       "           min_impurity_split=None, min_samples_leaf=1,\n",
       "           min_samples_split=2, min_weight_fraction_leaf=0.0,\n",
       "           presort=False, random_state=None, splitter='best')"
      ]
     },
     "execution_count": 132,
     "metadata": {},
     "output_type": "execute_result"
    }
   ],
   "source": [
    "x = simplified_data[[\"PPG\", \"AST\", \"BLK\", \"TO\", \"STL\", \"REB\", \"MPG\", \"FT%\", \"EFG%\"]]\n",
    "y = simplified_data.Salary\n",
    "\n",
    "x_train, x_test, y_train, y_test = train_test_split(x, y)\n",
    "\n",
    "salary_model = DecisionTreeRegressor()\n",
    "salary_model.fit(x_train, y_train)"
   ]
  },
  {
   "cell_type": "code",
   "execution_count": 133,
   "metadata": {},
   "outputs": [
    {
     "name": "stdout",
     "output_type": "stream",
     "text": [
      "5854258.067307692\n"
     ]
    }
   ],
   "source": [
    "predictions = salary_model.predict(x_test)\n",
    "\n",
    "print(mean_absolute_error(y_test, predictions))"
   ]
  },
  {
   "cell_type": "code",
   "execution_count": 134,
   "metadata": {
    "collapsed": true
   },
   "outputs": [],
   "source": [
    "data.to_csv(\"NBA Players Info 2018.csv\")"
   ]
  },
  {
   "cell_type": "code",
   "execution_count": 135,
   "metadata": {
    "scrolled": false
   },
   "outputs": [
    {
     "data": {
      "text/html": [
       "<div>\n",
       "<style>\n",
       "    .dataframe thead tr:only-child th {\n",
       "        text-align: right;\n",
       "    }\n",
       "\n",
       "    .dataframe thead th {\n",
       "        text-align: left;\n",
       "    }\n",
       "\n",
       "    .dataframe tbody tr th {\n",
       "        vertical-align: top;\n",
       "    }\n",
       "</style>\n",
       "<table border=\"1\" class=\"dataframe\">\n",
       "  <thead>\n",
       "    <tr style=\"text-align: right;\">\n",
       "      <th></th>\n",
       "      <th>Name</th>\n",
       "      <th>PPG</th>\n",
       "      <th>AST</th>\n",
       "      <th>BLK</th>\n",
       "      <th>TO</th>\n",
       "      <th>STL</th>\n",
       "      <th>REB</th>\n",
       "      <th>OREB</th>\n",
       "      <th>DREB</th>\n",
       "      <th>GP</th>\n",
       "      <th>...</th>\n",
       "      <th>3P</th>\n",
       "      <th>3P%</th>\n",
       "      <th>FTA</th>\n",
       "      <th>FT</th>\n",
       "      <th>FT%</th>\n",
       "      <th>2PA</th>\n",
       "      <th>2P</th>\n",
       "      <th>2P%</th>\n",
       "      <th>EFG%</th>\n",
       "      <th>Salary</th>\n",
       "    </tr>\n",
       "  </thead>\n",
       "  <tbody>\n",
       "    <tr>\n",
       "      <th>0</th>\n",
       "      <td>Stephen Curry</td>\n",
       "      <td>23.1</td>\n",
       "      <td>6.8</td>\n",
       "      <td>0.2</td>\n",
       "      <td>3.2</td>\n",
       "      <td>1.8</td>\n",
       "      <td>4.4</td>\n",
       "      <td>0.7</td>\n",
       "      <td>3.7</td>\n",
       "      <td>625</td>\n",
       "      <td>...</td>\n",
       "      <td>3.4</td>\n",
       "      <td>0.436</td>\n",
       "      <td>4</td>\n",
       "      <td>3.6</td>\n",
       "      <td>0.903</td>\n",
       "      <td>9</td>\n",
       "      <td>4.6</td>\n",
       "      <td>0.513</td>\n",
       "      <td>0.579</td>\n",
       "      <td>37457154</td>\n",
       "    </tr>\n",
       "    <tr>\n",
       "      <th>1</th>\n",
       "      <td>Chris Paul</td>\n",
       "      <td>18.7</td>\n",
       "      <td>9.8</td>\n",
       "      <td>0.1</td>\n",
       "      <td>2.4</td>\n",
       "      <td>2.3</td>\n",
       "      <td>4.5</td>\n",
       "      <td>0.7</td>\n",
       "      <td>3.8</td>\n",
       "      <td>892</td>\n",
       "      <td>...</td>\n",
       "      <td>1.3</td>\n",
       "      <td>0.372</td>\n",
       "      <td>4.9</td>\n",
       "      <td>4.3</td>\n",
       "      <td>0.868</td>\n",
       "      <td>10.5</td>\n",
       "      <td>5.3</td>\n",
       "      <td>0.505</td>\n",
       "      <td>0.518</td>\n",
       "      <td>35654150</td>\n",
       "    </tr>\n",
       "    <tr>\n",
       "      <th>2</th>\n",
       "      <td>LeBron James</td>\n",
       "      <td>27.2</td>\n",
       "      <td>7.2</td>\n",
       "      <td>0.8</td>\n",
       "      <td>3.5</td>\n",
       "      <td>1.6</td>\n",
       "      <td>7.4</td>\n",
       "      <td>1.2</td>\n",
       "      <td>6.1</td>\n",
       "      <td>1143</td>\n",
       "      <td>...</td>\n",
       "      <td>1.4</td>\n",
       "      <td>0.344</td>\n",
       "      <td>8.1</td>\n",
       "      <td>6</td>\n",
       "      <td>0.739</td>\n",
       "      <td>15.5</td>\n",
       "      <td>8.5</td>\n",
       "      <td>0.547</td>\n",
       "      <td>0.54</td>\n",
       "      <td>35654150</td>\n",
       "    </tr>\n",
       "    <tr>\n",
       "      <th>3</th>\n",
       "      <td>Russell Westbrook</td>\n",
       "      <td>23</td>\n",
       "      <td>8.2</td>\n",
       "      <td>0.3</td>\n",
       "      <td>4</td>\n",
       "      <td>1.7</td>\n",
       "      <td>6.6</td>\n",
       "      <td>1.7</td>\n",
       "      <td>4.9</td>\n",
       "      <td>748</td>\n",
       "      <td>...</td>\n",
       "      <td>1.1</td>\n",
       "      <td>0.311</td>\n",
       "      <td>7.2</td>\n",
       "      <td>5.9</td>\n",
       "      <td>0.814</td>\n",
       "      <td>15</td>\n",
       "      <td>6.9</td>\n",
       "      <td>0.464</td>\n",
       "      <td>0.464</td>\n",
       "      <td>35350000</td>\n",
       "    </tr>\n",
       "    <tr>\n",
       "      <th>4</th>\n",
       "      <td>Blake Griffin</td>\n",
       "      <td>21.5</td>\n",
       "      <td>4.3</td>\n",
       "      <td>0.5</td>\n",
       "      <td>2.5</td>\n",
       "      <td>0.9</td>\n",
       "      <td>9.2</td>\n",
       "      <td>2.3</td>\n",
       "      <td>6.9</td>\n",
       "      <td>529</td>\n",
       "      <td>...</td>\n",
       "      <td>0.4</td>\n",
       "      <td>0.324</td>\n",
       "      <td>6.9</td>\n",
       "      <td>4.7</td>\n",
       "      <td>0.683</td>\n",
       "      <td>15</td>\n",
       "      <td>7.8</td>\n",
       "      <td>0.522</td>\n",
       "      <td>0.519</td>\n",
       "      <td>31873932</td>\n",
       "    </tr>\n",
       "  </tbody>\n",
       "</table>\n",
       "<p>5 rows × 26 columns</p>\n",
       "</div>"
      ],
      "text/plain": [
       "                Name   PPG  AST  BLK   TO  STL  REB OREB DREB    GP    ...     \\\n",
       "0      Stephen Curry  23.1  6.8  0.2  3.2  1.8  4.4  0.7  3.7   625    ...      \n",
       "1         Chris Paul  18.7  9.8  0.1  2.4  2.3  4.5  0.7  3.8   892    ...      \n",
       "2       LeBron James  27.2  7.2  0.8  3.5  1.6  7.4  1.2  6.1  1143    ...      \n",
       "3  Russell Westbrook    23  8.2  0.3    4  1.7  6.6  1.7  4.9   748    ...      \n",
       "4      Blake Griffin  21.5  4.3  0.5  2.5  0.9  9.2  2.3  6.9   529    ...      \n",
       "\n",
       "    3P    3P%  FTA   FT    FT%   2PA   2P    2P%   EFG%    Salary  \n",
       "0  3.4  0.436    4  3.6  0.903     9  4.6  0.513  0.579  37457154  \n",
       "1  1.3  0.372  4.9  4.3  0.868  10.5  5.3  0.505  0.518  35654150  \n",
       "2  1.4  0.344  8.1    6  0.739  15.5  8.5  0.547   0.54  35654150  \n",
       "3  1.1  0.311  7.2  5.9  0.814    15  6.9  0.464  0.464  35350000  \n",
       "4  0.4  0.324  6.9  4.7  0.683    15  7.8  0.522  0.519  31873932  \n",
       "\n",
       "[5 rows x 26 columns]"
      ]
     },
     "execution_count": 135,
     "metadata": {},
     "output_type": "execute_result"
    }
   ],
   "source": [
    "data.head()"
   ]
  },
  {
   "cell_type": "markdown",
   "metadata": {},
   "source": [
    "Attempt to predict salaries using only PPG feature"
   ]
  },
  {
   "cell_type": "code",
   "execution_count": 136,
   "metadata": {
    "scrolled": true
   },
   "outputs": [
    {
     "data": {
      "image/png": "[encoded data removed]",
      "text/plain": [
       "<matplotlib.figure.Figure at 0x145a2f99e80>"
      ]
     },
     "metadata": {},
     "output_type": "display_data"
    }
   ],
   "source": [
    "fig = plt.figure(figsize=(10,10))\n",
    "\n",
    "plt1 = fig.add_subplot(2, 2, 1)\n",
    "plt1.scatter(data.PPG, data.Salary)\n",
    "plt1.set_title(\"Points vs Salary\")\n",
    "\n",
    "plt2 = fig.add_subplot(2, 2, 2)\n",
    "plt2.scatter(data.MPG, data.Salary)\n",
    "plt2.set_title(\"Minutes vs Salary\")\n",
    "\n",
    "plt3 = fig.add_subplot(2, 2, 3)\n",
    "plt3.scatter(data.iloc[:, 24], data.Salary)\n",
    "plt3.set_title(\"Eff FG vs Salary\")\n",
    "\n",
    "plt4 = fig.add_subplot(2, 2, 4)\n",
    "plt4.scatter(data.GP, data.Salary)\n",
    "plt4.set_title(\"Games Played vs Salary\")\n",
    "\n",
    "plt.show()"
   ]
  },
  {
   "cell_type": "markdown",
   "metadata": {},
   "source": [
    "Try using a lienar regression model"
   ]
  },
  {
   "cell_type": "code",
   "execution_count": 137,
   "metadata": {},
   "outputs": [
    {
     "data": {
      "text/plain": [
       "4574490.837652994"
      ]
     },
     "execution_count": 137,
     "metadata": {},
     "output_type": "execute_result"
    }
   ],
   "source": [
    "from sklearn.linear_model import LinearRegression\n",
    "\n",
    "linear_model = LinearRegression()\n",
    "linear_model.fit(x_train, y_train)\n",
    "\n",
    "linear_predictions = linear_model.predict(x_test)\n",
    "mean_absolute_error(y_test, linear_predictions)"
   ]
  },
  {
   "cell_type": "code",
   "execution_count": 138,
   "metadata": {},
   "outputs": [
    {
     "name": "stdout",
     "output_type": "stream",
     "text": [
      "4301468.83974359\n"
     ]
    }
   ],
   "source": [
    "from sklearn.ensemble import RandomForestRegressor\n",
    "\n",
    "salary_model_2 = RandomForestRegressor()\n",
    "salary_model_2.fit(x_train, y_train)\n",
    "\n",
    "predictions2 = salary_model_2.predict(x_test)\n",
    "\n",
    "print(mean_absolute_error(y_test, predictions2))"
   ]
  },
  {
   "cell_type": "code",
   "execution_count": null,
   "metadata": {
    "collapsed": true
   },
   "outputs": [],
   "source": []
  }
 ],
 "metadata": {
  "kernelspec": {
   "display_name": "Python 3",
   "language": "python",
   "name": "python3"
  },
  "language_info": {
   "codemirror_mode": {
    "name": "ipython",
    "version": 3
   },
   "file_extension": ".py",
   "mimetype": "text/x-python",
   "name": "python",
   "nbconvert_exporter": "python",
   "pygments_lexer": "ipython3",
   "version": "3.6.1"
  }
 },
 "nbformat": 4,
 "nbformat_minor": 2
}
