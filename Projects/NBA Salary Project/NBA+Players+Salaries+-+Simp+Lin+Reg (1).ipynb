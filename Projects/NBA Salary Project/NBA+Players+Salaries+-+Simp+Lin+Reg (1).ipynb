{
 "cells": [
  {
   "cell_type": "markdown",
   "metadata": {},
   "source": [
    "Import neccessary packages"
   ]
  },
  {
   "cell_type": "code",
   "execution_count": 25,
   "metadata": {
    "collapsed": true
   },
   "outputs": [],
   "source": [
    "import numpy as np \n",
    "import pandas as pd\n",
    "from sklearn.metrics import mean_absolute_error\n",
    "import matplotlib.pyplot as plt\n",
    "%matplotlib inline"
   ]
  },
  {
   "cell_type": "markdown",
   "metadata": {},
   "source": [
    "Importing the data scraped online"
   ]
  },
  {
   "cell_type": "code",
   "execution_count": 2,
   "metadata": {},
   "outputs": [
    {
     "data": {
      "text/html": [
       "<div>\n",
       "<style>\n",
       "    .dataframe thead tr:only-child th {\n",
       "        text-align: right;\n",
       "    }\n",
       "\n",
       "    .dataframe thead th {\n",
       "        text-align: left;\n",
       "    }\n",
       "\n",
       "    .dataframe tbody tr th {\n",
       "        vertical-align: top;\n",
       "    }\n",
       "</style>\n",
       "<table border=\"1\" class=\"dataframe\">\n",
       "  <thead>\n",
       "    <tr style=\"text-align: right;\">\n",
       "      <th></th>\n",
       "      <th>Name</th>\n",
       "      <th>PPG</th>\n",
       "      <th>AST</th>\n",
       "      <th>BLK</th>\n",
       "      <th>TO</th>\n",
       "      <th>STL</th>\n",
       "      <th>REB</th>\n",
       "      <th>OREB</th>\n",
       "      <th>DREB</th>\n",
       "      <th>GP</th>\n",
       "      <th>...</th>\n",
       "      <th>3P</th>\n",
       "      <th>3P%</th>\n",
       "      <th>FTA</th>\n",
       "      <th>FT</th>\n",
       "      <th>FT%</th>\n",
       "      <th>2PA</th>\n",
       "      <th>2P</th>\n",
       "      <th>2P%</th>\n",
       "      <th>EFG%</th>\n",
       "      <th>Salary</th>\n",
       "    </tr>\n",
       "  </thead>\n",
       "  <tbody>\n",
       "    <tr>\n",
       "      <th>0</th>\n",
       "      <td>Stephen Curry</td>\n",
       "      <td>23.1</td>\n",
       "      <td>6.8</td>\n",
       "      <td>0.2</td>\n",
       "      <td>3.2</td>\n",
       "      <td>1.8</td>\n",
       "      <td>4.4</td>\n",
       "      <td>0.7</td>\n",
       "      <td>3.7</td>\n",
       "      <td>625</td>\n",
       "      <td>...</td>\n",
       "      <td>3.4</td>\n",
       "      <td>0.436</td>\n",
       "      <td>4.0</td>\n",
       "      <td>3.6</td>\n",
       "      <td>0.903</td>\n",
       "      <td>9.0</td>\n",
       "      <td>4.6</td>\n",
       "      <td>0.513</td>\n",
       "      <td>0.579</td>\n",
       "      <td>37457154</td>\n",
       "    </tr>\n",
       "    <tr>\n",
       "      <th>1</th>\n",
       "      <td>Chris Paul</td>\n",
       "      <td>18.7</td>\n",
       "      <td>9.8</td>\n",
       "      <td>0.1</td>\n",
       "      <td>2.4</td>\n",
       "      <td>2.3</td>\n",
       "      <td>4.5</td>\n",
       "      <td>0.7</td>\n",
       "      <td>3.8</td>\n",
       "      <td>892</td>\n",
       "      <td>...</td>\n",
       "      <td>1.3</td>\n",
       "      <td>0.372</td>\n",
       "      <td>4.9</td>\n",
       "      <td>4.3</td>\n",
       "      <td>0.868</td>\n",
       "      <td>10.5</td>\n",
       "      <td>5.3</td>\n",
       "      <td>0.505</td>\n",
       "      <td>0.518</td>\n",
       "      <td>35654150</td>\n",
       "    </tr>\n",
       "    <tr>\n",
       "      <th>2</th>\n",
       "      <td>LeBron James</td>\n",
       "      <td>27.2</td>\n",
       "      <td>7.2</td>\n",
       "      <td>0.8</td>\n",
       "      <td>3.5</td>\n",
       "      <td>1.6</td>\n",
       "      <td>7.4</td>\n",
       "      <td>1.2</td>\n",
       "      <td>6.1</td>\n",
       "      <td>1143</td>\n",
       "      <td>...</td>\n",
       "      <td>1.4</td>\n",
       "      <td>0.344</td>\n",
       "      <td>8.1</td>\n",
       "      <td>6.0</td>\n",
       "      <td>0.739</td>\n",
       "      <td>15.5</td>\n",
       "      <td>8.5</td>\n",
       "      <td>0.547</td>\n",
       "      <td>0.540</td>\n",
       "      <td>35654150</td>\n",
       "    </tr>\n",
       "    <tr>\n",
       "      <th>3</th>\n",
       "      <td>Russell Westbrook</td>\n",
       "      <td>23.0</td>\n",
       "      <td>8.2</td>\n",
       "      <td>0.3</td>\n",
       "      <td>4.0</td>\n",
       "      <td>1.7</td>\n",
       "      <td>6.6</td>\n",
       "      <td>1.7</td>\n",
       "      <td>4.9</td>\n",
       "      <td>748</td>\n",
       "      <td>...</td>\n",
       "      <td>1.1</td>\n",
       "      <td>0.311</td>\n",
       "      <td>7.2</td>\n",
       "      <td>5.9</td>\n",
       "      <td>0.814</td>\n",
       "      <td>15.0</td>\n",
       "      <td>6.9</td>\n",
       "      <td>0.464</td>\n",
       "      <td>0.464</td>\n",
       "      <td>35350000</td>\n",
       "    </tr>\n",
       "    <tr>\n",
       "      <th>4</th>\n",
       "      <td>Blake Griffin</td>\n",
       "      <td>21.5</td>\n",
       "      <td>4.3</td>\n",
       "      <td>0.5</td>\n",
       "      <td>2.5</td>\n",
       "      <td>0.9</td>\n",
       "      <td>9.2</td>\n",
       "      <td>2.3</td>\n",
       "      <td>6.9</td>\n",
       "      <td>529</td>\n",
       "      <td>...</td>\n",
       "      <td>0.4</td>\n",
       "      <td>0.324</td>\n",
       "      <td>6.9</td>\n",
       "      <td>4.7</td>\n",
       "      <td>0.683</td>\n",
       "      <td>15.0</td>\n",
       "      <td>7.8</td>\n",
       "      <td>0.522</td>\n",
       "      <td>0.519</td>\n",
       "      <td>31873932</td>\n",
       "    </tr>\n",
       "  </tbody>\n",
       "</table>\n",
       "<p>5 rows × 26 columns</p>\n",
       "</div>"
      ],
      "text/plain": [
       "                Name   PPG  AST  BLK   TO  STL  REB  OREB  DREB    GP  \\\n",
       "0      Stephen Curry  23.1  6.8  0.2  3.2  1.8  4.4   0.7   3.7   625   \n",
       "1         Chris Paul  18.7  9.8  0.1  2.4  2.3  4.5   0.7   3.8   892   \n",
       "2       LeBron James  27.2  7.2  0.8  3.5  1.6  7.4   1.2   6.1  1143   \n",
       "3  Russell Westbrook  23.0  8.2  0.3  4.0  1.7  6.6   1.7   4.9   748   \n",
       "4      Blake Griffin  21.5  4.3  0.5  2.5  0.9  9.2   2.3   6.9   529   \n",
       "\n",
       "     ...      3P    3P%  FTA   FT    FT%   2PA   2P    2P%   EFG%    Salary  \n",
       "0    ...     3.4  0.436  4.0  3.6  0.903   9.0  4.6  0.513  0.579  37457154  \n",
       "1    ...     1.3  0.372  4.9  4.3  0.868  10.5  5.3  0.505  0.518  35654150  \n",
       "2    ...     1.4  0.344  8.1  6.0  0.739  15.5  8.5  0.547  0.540  35654150  \n",
       "3    ...     1.1  0.311  7.2  5.9  0.814  15.0  6.9  0.464  0.464  35350000  \n",
       "4    ...     0.4  0.324  6.9  4.7  0.683  15.0  7.8  0.522  0.519  31873932  \n",
       "\n",
       "[5 rows x 26 columns]"
      ]
     },
     "execution_count": 2,
     "metadata": {},
     "output_type": "execute_result"
    }
   ],
   "source": [
    "data = pd.read_csv(\"NBA Players Info 2018.csv\")\n",
    "data.head()"
   ]
  },
  {
   "cell_type": "markdown",
   "metadata": {},
   "source": [
    "Will plot the Salary target against some features"
   ]
  },
  {
   "cell_type": "code",
   "execution_count": 6,
   "metadata": {},
   "outputs": [],
   "source": [
    "x1 = np.array(data.PPG) #Points per game\n",
    "x2 = np.array(data.GP) #Games Played in career\n",
    "x3 = np.array(data.BLK) #Blocks per Game\n",
    "x4 = np.array(data[[\"EFG%\"]]) #EFG%\n",
    "\n",
    "y = np.array(data.Salary) #Salary for each player"
   ]
  },
  {
   "cell_type": "code",
   "execution_count": 14,
   "metadata": {},
   "outputs": [
    {
     "data": {
      "image/png": "[encoded data removed]",
      "text/plain": [
       "<matplotlib.figure.Figure at 0x15164d078d0>"
      ]
     },
     "metadata": {},
     "output_type": "display_data"
    }
   ],
   "source": [
    "fig = plt.figure(figsize=(8,8))\n",
    "\n",
    "fig1 = fig.add_subplot(2, 2, 1)\n",
    "fig1.scatter(x1, y)\n",
    "fig1.grid(True)\n",
    "fig1.set_title(\"PPG VS Salary\")\n",
    "\n",
    "\n",
    "fig2 = fig.add_subplot(2, 2, 2)\n",
    "fig2.scatter(x2, y)\n",
    "fig2.grid(True)\n",
    "fig2.set_title(\"GP VS Salary\")\n",
    "\n",
    "fig3 = fig.add_subplot(2, 2, 3)\n",
    "fig3.scatter(x3, y)\n",
    "fig3.grid(True)\n",
    "fig3.set_title(\"BLK VS Salary\")\n",
    "\n",
    "fig4 = fig.add_subplot(2, 2, 4)\n",
    "fig4.scatter(x4, y)\n",
    "fig4.grid(True)\n",
    "fig4.set_title(\"EFG VS Salary\")\n",
    "\n",
    "plt.show()"
   ]
  },
  {
   "cell_type": "markdown",
   "metadata": {},
   "source": [
    "The plot that looks like it predicts the best is \"PPG vs Salary\"\n",
    "Looks like it would best fit a linear model"
   ]
  },
  {
   "cell_type": "code",
   "execution_count": 15,
   "metadata": {
    "collapsed": true
   },
   "outputs": [],
   "source": [
    "x = np.array(data.PPG)\n",
    "y = np.array(data.Salary)"
   ]
  },
  {
   "cell_type": "code",
   "execution_count": 20,
   "metadata": {},
   "outputs": [],
   "source": [
    "def lin_regression(x, y):\n",
    "    xbar = np.mean(x)\n",
    "    ybar = np.mean(y)\n",
    "\n",
    "    sxx = np.mean((xbar - x)**2)\n",
    "    syy = np.mean((ybar - y)**2)\n",
    "    sxy = np.mean((x - xbar)*(y - ybar))\n",
    "\n",
    "    beta1 = sxy / sxx\n",
    "    beta0 = ybar - (beta1 * xbar)\n",
    "    \n",
    "    rsq = 1\n",
    "    return beta0, beta1, rsq"
   ]
  },
  {
   "cell_type": "code",
   "execution_count": 22,
   "metadata": {},
   "outputs": [
    {
     "name": "stdout",
     "output_type": "stream",
     "text": [
      "-1377550.9492065813 1029781.5842224403\n"
     ]
    }
   ],
   "source": [
    "beta0, beta1, rsq = lin_regression(x, y)\n",
    "print(beta0, beta1)"
   ]
  },
  {
   "cell_type": "markdown",
   "metadata": {},
   "source": [
    "\\begin{equation}\n",
    "Y_i = \\beta_0 + \\beta_1 X_i + \\epsilon_i\n",
    "\\end{equation}\n",
    "\n",
    "\\begin{equation}\n",
    "\\beta_0 = -1377550.9492065813\n",
    "\\end{equation}\n",
    "\n",
    "\\begin{equation}\n",
    "\\beta1 = 1029781.5842224403\n",
    "\\end{equation}\n"
   ]
  },
  {
   "cell_type": "markdown",
   "metadata": {},
   "source": [
    "\\begin{equation}\n",
    "Y_i \\approx -1377550.9492065813 + 1029781.5842224403 X_i\n",
    "\\end{equation}"
   ]
  },
  {
   "cell_type": "code",
   "execution_count": 23,
   "metadata": {
    "collapsed": true
   },
   "outputs": [],
   "source": [
    "predictions = np.array(beta0 + (beta1 * x))"
   ]
  },
  {
   "cell_type": "code",
   "execution_count": 27,
   "metadata": {},
   "outputs": [
    {
     "data": {
      "text/plain": [
       "[<matplotlib.lines.Line2D at 0x1516c7e8ba8>]"
      ]
     },
     "execution_count": 27,
     "metadata": {},
     "output_type": "execute_result"
    },
    {
     "data": {
      "image/png": "[encoded data removed]",
      "text/plain": [
       "<matplotlib.figure.Figure at 0x1516c7ab438>"
      ]
     },
     "metadata": {},
     "output_type": "display_data"
    }
   ],
   "source": [
    "plt.scatter(x, y)\n",
    "plt.title(\"PPG vs Salary\")\n",
    "plt.xlabel(\"PPG\")\n",
    "plt.ylabel(\"Salary\")\n",
    "\n",
    "plt.plot(x, predictions, color=\"red\")"
   ]
  },
  {
   "cell_type": "code",
   "execution_count": 26,
   "metadata": {},
   "outputs": [
    {
     "name": "stdout",
     "output_type": "stream",
     "text": [
      "Mean absolute error: 4715627.216595057\n"
     ]
    }
   ],
   "source": [
    "print(\"Mean absolute error:\", mean_absolute_error(predictions, y))"
   ]
  },
  {
   "cell_type": "code",
   "execution_count": null,
   "metadata": {
    "collapsed": true
   },
   "outputs": [],
   "source": []
  }
 ],
 "metadata": {
  "kernelspec": {
   "display_name": "Python 3",
   "language": "python",
   "name": "python3"
  },
  "language_info": {
   "codemirror_mode": {
    "name": "ipython",
    "version": 3
   },
   "file_extension": ".py",
   "mimetype": "text/x-python",
   "name": "python",
   "nbconvert_exporter": "python",
   "pygments_lexer": "ipython3",
   "version": "3.6.1"
  }
 },
 "nbformat": 4,
 "nbformat_minor": 2
}
